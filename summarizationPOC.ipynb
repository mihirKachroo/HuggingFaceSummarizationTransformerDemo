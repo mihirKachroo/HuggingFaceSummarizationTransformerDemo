{
 "cells": [
  {
   "cell_type": "code",
   "execution_count": null,
   "metadata": {},
   "outputs": [],
   "source": [
    "%pip install transformers"
   ]
  },
  {
   "cell_type": "code",
   "execution_count": 28,
   "metadata": {},
   "outputs": [],
   "source": [
    "from transformers import pipeline"
   ]
  },
  {
   "cell_type": "code",
   "execution_count": 29,
   "metadata": {},
   "outputs": [
    {
     "name": "stderr",
     "output_type": "stream",
     "text": [
      "No model was supplied, defaulted to t5-small and revision d769bba (https://huggingface.co/t5-small).\n",
      "Using a pipeline without specifying a model name and revision in production is not recommended.\n",
      "All PyTorch model weights were used when initializing TFT5ForConditionalGeneration.\n",
      "\n",
      "All the weights of TFT5ForConditionalGeneration were initialized from the PyTorch model.\n",
      "If your task is similar to the task the model of the checkpoint was trained on, you can already use TFT5ForConditionalGeneration for predictions without further training.\n"
     ]
    }
   ],
   "source": [
    "summarizer = pipeline('summarization')"
   ]
  },
  {
   "cell_type": "code",
   "execution_count": 30,
   "metadata": {},
   "outputs": [],
   "source": [
    "# article scraped from: https://www.ceridian.com/ca/company/newsroom/2023/ceridian-announces-dayforce-career-explorer\n",
    "article = \"\"\"\n",
    "Dayforce Career Explorer helps improve employee engagement and retention with AI-driven career pathing\n",
    "Toronto, ON and Minneapolis, MN, May 25, 2023\n",
    "\n",
    "Ceridian (NYSE: CDAY; TSX: CDAY), a global leader in human capital management (HCM) technology, today announced the launch of Dayforce Career Explorer, an AI-powered solution that helps improve engagement and retention by empowering employees to manage their careers. Dayforce Career Explorer provides employees with access to data-driven career pathing, opportunities for learning and development, and job notifications for open roles that match their skills and interests. Customers, including Jisc, are currently using Dayforce Career Explorer within their global workforce.\n",
    "\n",
    "Today’s organizations face critical staffing and skills shortages, with fierce competition to attract and retain top talent. Meanwhile, employees are seeking increased flexibility, benefits, and control over their careers with more employment options available than ever. According to Ceridian’s Pulse of Talent report, a vast majority (84%) of employees globally say having a clear career path makes them more committed to their employer. With Dayforce Career Explorer, employees are empowered to explore personalized opportunities within their company with a clearer view of their skills, or required skills, to achieve their career aspirations.\n",
    "\n",
    "Powered by the Dayforce Skills Engine, Dayforce Career Explorer helps employers leverage HR data to deliver skills-based career exploration, while increasing internal talent mobility by matching employees with open roles and projects. This enables organizations to address turnover and retention while reducing time and resources spent on external recruitment. Dayforce Career Explorer’s mobile-first experience also fosters employee engagement, skills development, and equitable access to opportunities. Using advanced machine learning algorithms, it recommends the right opportunities that align with employees’ interests and abilities, while helping to develop new skills. \n",
    "\n",
    "“Nearly every organization is challenged with employee retention and skills shortages, and that opens big opportunities for employers willing to rethink traditional career pathing,” said Somen Mondal, General Manager, Talent Intelligence, Ceridian. “Using AI and machine learning, Dayforce Career Explorer puts employees on the right track to achieving their career goals, while helping organizations build a flexible, resilient, and modern workforce.”\n",
    "\n",
    "In addition, Dayforce Career Explorer helps organizations:\n",
    "\n",
    "Improve retention by offering employees clear career paths with the actionable steps required to reach their goals.\n",
    "More rapidly and efficiently fill high-priority roles by leveraging talent already inside the organization.\n",
    "Improve succession planning by identifying candidates for internal hiring and promotion.\n",
    "Use data and advanced AI-based analytics to understand the skills of their workforce and potential gaps.\n",
    "Create a culture of learning and development to engage and upskill employees.\n",
    "“We foster a company culture which supports and promotes personal learning and development, and we’re thrilled to partner with Ceridian to help our people take the next steps in their careers,” said Stu Privett, HR Systems and Data Manager, Jisc. “Dayforce Career Explorer will help give our employees a clear view of their career possibilities at Jisc and a personalized action plan to develop the skills they need to advance, while increasing employee engagement and providing real-time data about internal talent to fill key roles.”\n",
    "\n",
    "For more information, visit: https://www.ceridian.com/products/dayforce/talent-intelligence/career-explorer\n",
    "\n",
    "\n",
    "About Ceridian  \n",
    "Ceridian. Makes Work Life Better™. \n",
    "\n",
    "Ceridian HCM Holding Inc. is a global human capital management software company. Dayforce, its flagship cloud HCM platform, provides human resources, payroll, benefits, workforce management, and talent management functionality. The Dayforce platform is used to optimize management of the entire employee lifecycle, including attracting, engaging, paying, deploying, and developing people. Ceridian has solutions for organizations of all sizes. Visit Ceridian.com or follow us @Ceridian.\n",
    "\n",
    "  \n",
    "\n",
    "Forward-Looking Statement\n",
    "\n",
    "This press release contains forward-looking statements that involve a number of risks and uncertainties. Statements that are not historical facts, and our expectations, hopes, intentions or strategies regarding the future are forward-looking statements. Forward-looking statements are based on management's beliefs, as well as assumptions made by, and information currently available to, management. Because such statements are based on expectations as to the future and are not statements of fact, actual results may differ materially from those projected. We undertake no obligation to update any forward-looking statements, whether as a result of new information, future events or otherwise.\n",
    "\n",
    "This press release should be read in conjunction with the risks detailed in the “Cautionary Note Regarding Forward-Looking Information,” “Forward-Looking Statement,” “Risk Factors” and other sections of Ceridian’s Quarterly Reports on Form 10-Q, Annual Reports on Form 10-K and other filings with the Securities and Exchange Commission.\n",
    "\"\"\""
   ]
  },
  {
   "cell_type": "code",
   "execution_count": 31,
   "metadata": {},
   "outputs": [],
   "source": [
    "# Summary Configs\n",
    "maxLength = 130\n",
    "minLength = 30"
   ]
  },
  {
   "cell_type": "code",
   "execution_count": 34,
   "metadata": {},
   "outputs": [],
   "source": [
    "output = summarizer(article, max_length=maxLength, min_length=minLength, do_sample=False)\n",
    "summary = output[0]['summary_text']"
   ]
  },
  {
   "cell_type": "code",
   "execution_count": 35,
   "metadata": {},
   "outputs": [
    {
     "data": {
      "text/plain": [
       "'Ceridian is a global leader in human capital management (HCM) technology . dayforce Career Explorer provides employees with access to data-driven career pathing, opportunities for learning and development, and job notifications for open roles that match their skills and interests . a vast majority of employees globally say having a clear career path makes them more committed to their employer .'"
      ]
     },
     "execution_count": 35,
     "metadata": {},
     "output_type": "execute_result"
    }
   ],
   "source": [
    "summary"
   ]
  }
 ],
 "metadata": {
  "kernelspec": {
   "display_name": "creatorflow",
   "language": "python",
   "name": "python3"
  },
  "language_info": {
   "codemirror_mode": {
    "name": "ipython",
    "version": 3
   },
   "file_extension": ".py",
   "mimetype": "text/x-python",
   "name": "python",
   "nbconvert_exporter": "python",
   "pygments_lexer": "ipython3",
   "version": "3.10.10"
  },
  "orig_nbformat": 4
 },
 "nbformat": 4,
 "nbformat_minor": 2
}
